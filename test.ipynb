{
 "cells": [
  {
   "cell_type": "markdown",
   "id": "9a57c4c6",
   "metadata": {},
   "source": [
    "# Eat Safe, Love"
   ]
  },
  {
   "cell_type": "markdown",
   "id": "064ef857",
   "metadata": {},
   "source": [
    "## Part 1: Database and Jupyter Notebook Set Up"
   ]
  },
  {
   "cell_type": "markdown",
   "id": "664e3c1f",
   "metadata": {},
   "source": [
    "Import the data provided in the `establishments.json` file from your Terminal. Name the database `uk_food` and the collection `establishments`.\n",
    "\n",
    "Within this markdown cell, copy the line of text you used to import the data from your Terminal. This way, future analysts will be able to repeat your process.\n",
    "\n",
    "Import the dataset with: mongoimport --type json -d uk_food -c establishments --drop --jsonArray establishments.json"
   ]
  },
  {
   "cell_type": "code",
   "execution_count": 1,
   "id": "3ecdd008",
   "metadata": {},
   "outputs": [],
   "source": [
    "# Import dependencies\n",
    "from pymongo import MongoClient\n",
    "from pprint import pprint"
   ]
  },
  {
   "cell_type": "code",
   "execution_count": 2,
   "id": "59390c4a",
   "metadata": {},
   "outputs": [],
   "source": [
    "# Create an instance of MongoClient\n",
    "mongo = MongoClient(port=27017)"
   ]
  },
  {
   "cell_type": "code",
   "execution_count": 3,
   "id": "7f9ececa",
   "metadata": {},
   "outputs": [],
   "source": [
    "# create new database\n",
    "db = mongo.testdb"
   ]
  },
  {
   "cell_type": "code",
   "execution_count": 7,
   "id": "71e373c1",
   "metadata": {},
   "outputs": [
    {
     "data": {
      "text/plain": [
       "<pymongo.results.InsertOneResult at 0x22f869aeb80>"
      ]
     },
     "execution_count": 7,
     "metadata": {},
     "output_type": "execute_result"
    }
   ],
   "source": [
    "# Create collection\n",
    "db.classroom.insert_one(\n",
    "    {\n",
    "        'FHRSID': 919762,\n",
    "        'ChangesByServerID': 0,\n",
    "        'LocalAuthorityBusinessID': 'PI/000078700',\n",
    "        'BusinessName': 'Penang Flavours',\n",
    "        'BusinessType': 'Restaurant/Cafe/Canteen',\n",
    "        'BusinessTypeID': 1,\n",
    "        'AddressLine1': '41 Charlton Church Ln',\n",
    "        'AddressLine2': '',\n",
    "        'AddressLine3': 'Charlton',\n",
    "        'AddressLine4': 'Greenwich',\n",
    "        'PostCode': 'SE7 7AE',\n",
    "        'Phone': '',\n",
    "        'RatingValue': '5',\n",
    "        'RatingKey': 'fhrs_5_en-gb',\n",
    "        'RatingDate': '2022-08-17T00:00:00',\n",
    "        'LocalAuthorityCode': '511',\n",
    "        'LocalAuthorityName': 'Greenwich',\n",
    "        'LocalAuthorityWebSite': 'http://www.royalgreenwich.gov.uk',\n",
    "        'LocalAuthorityEmailAddress': 'health@royalgreenwich.gov.uk',\n",
    "        'scores': {'Hygiene': 0, 'Structural': 5, 'ConfidenceInManagement': 0},\n",
    "        'SchemeType': 'FHRS',\n",
    "        'geocode': {'longitude': '0.032597', 'latitude': '51.487704'},\n",
    "        'RightToReply': '',\n",
    "        'Distance': 4587.347174863443,\n",
    "        'NewRatingPending': False,\n",
    "        'meta': {'dataSource': None, 'extractDate': '0001-01-01T00:00:00', 'itemCount': 0, 'returncode': None, 'totalCount': 0, 'totalPages': 0, 'pageSize': 0, 'pageNumber': 0},\n",
    "        'links': [{'rel': 'self', 'href': 'http://api.ratings.food.gov.uk/establishments/919762'}]\n",
    "    }\n",
    ")"
   ]
  },
  {
   "cell_type": "code",
   "execution_count": 12,
   "id": "ef1b89ed",
   "metadata": {},
   "outputs": [],
   "source": [
    "# query classroom collection\n",
    "classroom = db.classroom.find()"
   ]
  },
  {
   "cell_type": "code",
   "execution_count": 13,
   "id": "18ab463c",
   "metadata": {},
   "outputs": [
    {
     "name": "stdout",
     "output_type": "stream",
     "text": [
      "{'_id': ObjectId('64be585af3deb84234055d91'), 'FHRSID': 919762, 'ChangesByServerID': 0, 'LocalAuthorityBusinessID': 'PI/000078700', 'BusinessName': 'Penang Flavours', 'BusinessType': 'Restaurant/Cafe/Canteen', 'BusinessTypeID': 1, 'AddressLine1': '41 Charlton Church Ln', 'AddressLine2': '', 'AddressLine3': 'Charlton', 'AddressLine4': 'Greenwich', 'PostCode': 'SE7 7AE', 'Phone': '', 'RatingValue': '5', 'RatingKey': 'fhrs_5_en-gb', 'RatingDate': '2022-08-17T00:00:00', 'LocalAuthorityCode': '511', 'LocalAuthorityName': 'Greenwich', 'LocalAuthorityWebSite': 'http://www.royalgreenwich.gov.uk', 'LocalAuthorityEmailAddress': 'health@royalgreenwich.gov.uk', 'scores': {'Hygiene': 0, 'Structural': 5, 'ConfidenceInManagement': 0}, 'SchemeType': 'FHRS', 'geocode': {'longitude': '0.032597', 'latitude': '51.487704'}, 'RightToReply': '', 'Distance': 4587.347174863443, 'NewRatingPending': False, 'meta': {'dataSource': None, 'extractDate': '0001-01-01T00:00:00', 'itemCount': 0, 'returncode': None, 'totalCount': 0, 'totalPages': 0, 'pageSize': 0, 'pageNumber': 0}, 'links': [{'rel': 'self', 'href': 'http://api.ratings.food.gov.uk/establishments/919762'}]}\n"
     ]
    }
   ],
   "source": [
    "# see data in collection\n",
    "for doc in classroom:\n",
    "    print(doc)"
   ]
  },
  {
   "cell_type": "code",
   "execution_count": 10,
   "id": "6a0d92df",
   "metadata": {},
   "outputs": [
    {
     "data": {
      "text/plain": [
       "<pymongo.results.DeleteResult at 0x22f869b50c0>"
      ]
     },
     "execution_count": 10,
     "metadata": {},
     "output_type": "execute_result"
    }
   ],
   "source": [
    "# delete one of the records\n",
    "db.classroom.delete_one({'BusinessName': 'Penang Flavours'})"
   ]
  },
  {
   "cell_type": "code",
   "execution_count": 17,
   "id": "11c9f11b",
   "metadata": {},
   "outputs": [
    {
     "data": {
      "text/plain": [
       "<pymongo.results.InsertManyResult at 0x22f869f0900>"
      ]
     },
     "execution_count": 17,
     "metadata": {},
     "output_type": "execute_result"
    }
   ],
   "source": [
    "# Create collection\n",
    "db.classroom.insert_many(\n",
    "    [{\n",
    "        'FHRSID': 919762,\n",
    "        'ChangesByServerID': 0,\n",
    "        'LocalAuthorityBusinessID': 'PI/000078700',\n",
    "        'BusinessName': 'Jardin Corona',\n",
    "        'BusinessType': 'Restaurant/Cafe/Canteen',\n",
    "        'BusinessTypeID': 1,\n",
    "        'AddressLine1': '41 Charlton Church Ln',\n",
    "        'AddressLine2': '',\n",
    "        'AddressLine3': 'Charlton',\n",
    "        'AddressLine4': 'Greenwich',\n",
    "        'PostCode': 'SE7 7AE',\n",
    "        'Phone': '',\n",
    "        'RatingValue': '5',\n",
    "        'RatingKey': 'fhrs_5_en-gb',\n",
    "        'RatingDate': '2022-08-17T00:00:00',\n",
    "        'LocalAuthorityCode': '511',\n",
    "        'LocalAuthorityName': 'Greenwich',\n",
    "        'LocalAuthorityWebSite': 'http://www.royalgreenwich.gov.uk',\n",
    "        'LocalAuthorityEmailAddress': 'health@royalgreenwich.gov.uk',\n",
    "        'scores': {'Hygiene': 0, 'Structural': 5, 'ConfidenceInManagement': 0},\n",
    "        'SchemeType': 'FHRS',\n",
    "        'geocode': {'longitude': '0.032597', 'latitude': '51.487704'},\n",
    "        'RightToReply': '',\n",
    "        'Distance': 4587.347174863443,\n",
    "        'NewRatingPending': False,\n",
    "        'meta': {'dataSource': None, 'extractDate': '0001-01-01T00:00:00', 'itemCount': 0, 'returncode': None, 'totalCount': 0, 'totalPages': 0, 'pageSize': 0, 'pageNumber': 0},\n",
    "        'links': [{'rel': 'self', 'href': 'http://api.ratings.food.gov.uk/establishments/919762'}]\n",
    "    },\n",
    "    {\n",
    "        'FHRSID': 919762,\n",
    "        'ChangesByServerID': 0,\n",
    "        'LocalAuthorityBusinessID': 'PI/000078700',\n",
    "        'BusinessName': 'Shooters',\n",
    "        'BusinessType': 'Restaurant/Cafe/Canteen',\n",
    "        'BusinessTypeID': 1,\n",
    "        'AddressLine1': '41 Charlton Church Ln',\n",
    "        'AddressLine2': '',\n",
    "        'AddressLine3': 'Charlton',\n",
    "        'AddressLine4': 'Greenwich',\n",
    "        'PostCode': 'SE7 7AE',\n",
    "        'Phone': '',\n",
    "        'RatingValue': '5',\n",
    "        'RatingKey': 'fhrs_5_en-gb',\n",
    "        'RatingDate': '2022-08-17T00:00:00',\n",
    "        'LocalAuthorityCode': '511',\n",
    "        'LocalAuthorityName': 'Greenwich',\n",
    "        'LocalAuthorityWebSite': 'http://www.royalgreenwich.gov.uk',\n",
    "        'LocalAuthorityEmailAddress': 'health@royalgreenwich.gov.uk',\n",
    "        'scores': {'Hygiene': 0, 'Structural': 5, 'ConfidenceInManagement': 0},\n",
    "        'SchemeType': 'FHRS',\n",
    "        'geocode': {'longitude': '0.032597', 'latitude': '51.487704'},\n",
    "        'RightToReply': '',\n",
    "        'Distance': 4587.347174863443,\n",
    "        'NewRatingPending': False,\n",
    "        'meta': {'dataSource': None, 'extractDate': '0001-01-01T00:00:00', 'itemCount': 0, 'returncode': None, 'totalCount': 0, 'totalPages': 0, 'pageSize': 0, 'pageNumber': 0},\n",
    "        'links': [{'rel': 'self', 'href': 'http://api.ratings.food.gov.uk/establishments/919762'}]\n",
    "\n",
    "    }]\n",
    ")"
   ]
  },
  {
   "cell_type": "code",
   "execution_count": 9,
   "id": "c2da7648",
   "metadata": {},
   "outputs": [],
   "source": [
    "# Create a dictionary for the new restaurant data\n",
    "new_restaurant = {'_id': '64aaabbbccc1dde17f3113gg1',\n",
    "                  'FHRSID': 919762,\n",
    "                  'ChangesByServerID': 0,\n",
    "                  'LocalAuthorityBusinessID': 'PI/000078700',\n",
    "                  'BusinessName': 'Penang Flavours',\n",
    "                  'BusinessType': 'Restaurant/Cafe/Canteen',\n",
    "                  'BusinessTypeID': 1,\n",
    "                  'AddressLine1': '41 Charlton Church Ln',\n",
    "                  'AddressLine2': '',\n",
    "                  'AddressLine3': 'Charlton',\n",
    "                  'AddressLine4': 'Greenwich',\n",
    "                  'PostCode': 'SE7 7AE',\n",
    "                  'Phone': '',\n",
    "                  'RatingValue': '5',\n",
    "                  'RatingKey': 'fhrs_5_en-gb',\n",
    "                  'RatingDate': '2022-08-17T00:00:00',\n",
    "                  'LocalAuthorityCode': '511',\n",
    "                  'LocalAuthorityName': 'Greenwich',\n",
    "                  'LocalAuthorityWebSite': 'http://www.royalgreenwich.gov.uk',\n",
    "                  'LocalAuthorityEmailAddress': 'health@royalgreenwich.gov.uk',\n",
    "                  'scores': {'Hygiene': 0, 'Structural': 5, 'ConfidenceInManagement': 0},\n",
    "                  'SchemeType': 'FHRS',\n",
    "                  'geocode': {'longitude': '0.032597', 'latitude': '51.487704'},\n",
    "                  'RightToReply': '',\n",
    "                  'Distance': 4587.347174863443,\n",
    "                  'NewRatingPending': False,\n",
    "                  'meta': {'dataSource': None, 'extractDate': '0001-01-01T00:00:00', 'itemCount': 0, 'returncode': None, 'totalCount': 0, 'totalPages': 0, 'pageSize': 0, 'pageNumber': 0},\n",
    "                  'links': [{'rel': 'self', 'href': 'http://api.ratings.food.gov.uk/establishments/919762'}]}"
   ]
  },
  {
   "cell_type": "code",
   "execution_count": 19,
   "id": "a6e5cece",
   "metadata": {},
   "outputs": [
    {
     "name": "stdout",
     "output_type": "stream",
     "text": [
      "{'_id': ObjectId('64be585af3deb84234055d91'), 'FHRSID': 919762, 'ChangesByServerID': 0, 'LocalAuthorityBusinessID': 'PI/000078700', 'BusinessName': 'Penang Flavours', 'BusinessType': 'Restaurant/Cafe/Canteen', 'BusinessTypeID': 1, 'AddressLine1': '41 Charlton Church Ln', 'AddressLine2': '', 'AddressLine3': 'Charlton', 'AddressLine4': 'Greenwich', 'PostCode': 'SE7 7AE', 'Phone': '', 'RatingValue': '5', 'RatingKey': 'fhrs_5_en-gb', 'RatingDate': '2022-08-17T00:00:00', 'LocalAuthorityCode': '511', 'LocalAuthorityName': 'Greenwich', 'LocalAuthorityWebSite': 'http://www.royalgreenwich.gov.uk', 'LocalAuthorityEmailAddress': 'health@royalgreenwich.gov.uk', 'scores': {'Hygiene': 0, 'Structural': 5, 'ConfidenceInManagement': 0}, 'SchemeType': 'FHRS', 'geocode': {'longitude': '0.032597', 'latitude': '51.487704'}, 'RightToReply': '', 'Distance': 4587.347174863443, 'NewRatingPending': False, 'meta': {'dataSource': None, 'extractDate': '0001-01-01T00:00:00', 'itemCount': 0, 'returncode': None, 'totalCount': 0, 'totalPages': 0, 'pageSize': 0, 'pageNumber': 0}, 'links': [{'rel': 'self', 'href': 'http://api.ratings.food.gov.uk/establishments/919762'}]}\n",
      "{'_id': ObjectId('64be59a2f3deb84234055d92'), 'FHRSID': 919762, 'ChangesByServerID': 0, 'LocalAuthorityBusinessID': 'PI/000078700', 'BusinessName': 'Jardin Corona', 'BusinessType': 'Restaurant/Cafe/Canteen', 'BusinessTypeID': 1, 'AddressLine1': '41 Charlton Church Ln', 'AddressLine2': '', 'AddressLine3': 'Charlton', 'AddressLine4': 'Greenwich', 'PostCode': 'SE7 7AE', 'Phone': '', 'RatingValue': '5', 'RatingKey': 'fhrs_5_en-gb', 'RatingDate': '2022-08-17T00:00:00', 'LocalAuthorityCode': '511', 'LocalAuthorityName': 'Greenwich', 'LocalAuthorityWebSite': 'http://www.royalgreenwich.gov.uk', 'LocalAuthorityEmailAddress': 'health@royalgreenwich.gov.uk', 'scores': {'Hygiene': 0, 'Structural': 5, 'ConfidenceInManagement': 0}, 'SchemeType': 'FHRS', 'geocode': {'longitude': '0.032597', 'latitude': '51.487704'}, 'RightToReply': '', 'Distance': 4587.347174863443, 'NewRatingPending': False, 'meta': {'dataSource': None, 'extractDate': '0001-01-01T00:00:00', 'itemCount': 0, 'returncode': None, 'totalCount': 0, 'totalPages': 0, 'pageSize': 0, 'pageNumber': 0}, 'links': [{'rel': 'self', 'href': 'http://api.ratings.food.gov.uk/establishments/919762'}]}\n",
      "{'_id': ObjectId('64be59a2f3deb84234055d93'), 'FHRSID': 919762, 'ChangesByServerID': 0, 'LocalAuthorityBusinessID': 'PI/000078700', 'BusinessName': 'Shooters', 'BusinessType': 'Restaurant/Cafe/Canteen', 'BusinessTypeID': 1, 'AddressLine1': '41 Charlton Church Ln', 'AddressLine2': '', 'AddressLine3': 'Charlton', 'AddressLine4': 'Greenwich', 'PostCode': 'SE7 7AE', 'Phone': '', 'RatingValue': '5', 'RatingKey': 'fhrs_5_en-gb', 'RatingDate': '2022-08-17T00:00:00', 'LocalAuthorityCode': '511', 'LocalAuthorityName': 'Greenwich', 'LocalAuthorityWebSite': 'http://www.royalgreenwich.gov.uk', 'LocalAuthorityEmailAddress': 'health@royalgreenwich.gov.uk', 'scores': {'Hygiene': 0, 'Structural': 5, 'ConfidenceInManagement': 0}, 'SchemeType': 'FHRS', 'geocode': {'longitude': '0.032597', 'latitude': '51.487704'}, 'RightToReply': '', 'Distance': 4587.347174863443, 'NewRatingPending': False, 'meta': {'dataSource': None, 'extractDate': '0001-01-01T00:00:00', 'itemCount': 0, 'returncode': None, 'totalCount': 0, 'totalPages': 0, 'pageSize': 0, 'pageNumber': 0}, 'links': [{'rel': 'self', 'href': 'http://api.ratings.food.gov.uk/establishments/919762'}]}\n"
     ]
    }
   ],
   "source": [
    "classroom = db.classroom.find()\n",
    "\n",
    "for doc in classroom:\n",
    "    print(doc)"
   ]
  },
  {
   "cell_type": "code",
   "execution_count": 25,
   "id": "63bb10f9",
   "metadata": {},
   "outputs": [
    {
     "data": {
      "text/plain": [
       "<pymongo.results.UpdateResult at 0x22f87dbc8c0>"
      ]
     },
     "execution_count": 25,
     "metadata": {},
     "output_type": "execute_result"
    }
   ],
   "source": [
    "# update document\n",
    "db.classroom.update_one(\n",
    "    {'BusinessName': 'Jardin Corona'},\n",
    "    {'$set': {'BusinessType': 'Shop'}}\n",
    "    )"
   ]
  },
  {
   "cell_type": "code",
   "execution_count": 27,
   "id": "93c63829",
   "metadata": {},
   "outputs": [
    {
     "name": "stdout",
     "output_type": "stream",
     "text": [
      "{'_id': ObjectId('64be585af3deb84234055d91'), 'FHRSID': 919762, 'ChangesByServerID': 0, 'LocalAuthorityBusinessID': 'PI/000078700', 'BusinessName': 'Penang Flavours', 'BusinessType': 'Restaurant/Cafe/Canteen', 'BusinessTypeID': 1, 'AddressLine1': '41 Charlton Church Ln', 'AddressLine2': '', 'AddressLine3': 'Charlton', 'AddressLine4': 'Greenwich', 'PostCode': 'SE7 7AE', 'Phone': '', 'RatingValue': '5', 'RatingKey': 'fhrs_5_en-gb', 'RatingDate': '2022-08-17T00:00:00', 'LocalAuthorityCode': '511', 'LocalAuthorityName': 'Greenwich', 'LocalAuthorityWebSite': 'http://www.royalgreenwich.gov.uk', 'LocalAuthorityEmailAddress': 'health@royalgreenwich.gov.uk', 'scores': {'Hygiene': 0, 'Structural': 5, 'ConfidenceInManagement': 0}, 'SchemeType': 'FHRS', 'geocode': {'longitude': '0.032597', 'latitude': '51.487704'}, 'RightToReply': '', 'Distance': 4587.347174863443, 'NewRatingPending': False, 'meta': {'dataSource': None, 'extractDate': '0001-01-01T00:00:00', 'itemCount': 0, 'returncode': None, 'totalCount': 0, 'totalPages': 0, 'pageSize': 0, 'pageNumber': 0}, 'links': [{'rel': 'self', 'href': 'http://api.ratings.food.gov.uk/establishments/919762'}]}\n",
      "{'_id': ObjectId('64be59a2f3deb84234055d92'), 'FHRSID': 919762, 'ChangesByServerID': 0, 'LocalAuthorityBusinessID': 'PI/000078700', 'BusinessName': 'Jardin Corona', 'BusinessType': 'Shop', 'BusinessTypeID': 1, 'AddressLine1': '41 Charlton Church Ln', 'AddressLine2': '', 'AddressLine3': 'Charlton', 'AddressLine4': 'Greenwich', 'PostCode': 'SE7 7AE', 'Phone': '', 'RatingValue': '5', 'RatingKey': 'fhrs_5_en-gb', 'RatingDate': '2022-08-17T00:00:00', 'LocalAuthorityCode': '511', 'LocalAuthorityName': 'Greenwich', 'LocalAuthorityWebSite': 'http://www.royalgreenwich.gov.uk', 'LocalAuthorityEmailAddress': 'health@royalgreenwich.gov.uk', 'scores': {'Hygiene': 0, 'Structural': 5, 'ConfidenceInManagement': 0}, 'SchemeType': 'FHRS', 'geocode': {'longitude': '0.032597', 'latitude': '51.487704'}, 'RightToReply': '', 'Distance': 4587.347174863443, 'NewRatingPending': False, 'meta': {'dataSource': None, 'extractDate': '0001-01-01T00:00:00', 'itemCount': 0, 'returncode': None, 'totalCount': 0, 'totalPages': 0, 'pageSize': 0, 'pageNumber': 0}, 'links': [{'rel': 'self', 'href': 'http://api.ratings.food.gov.uk/establishments/919762'}]}\n",
      "{'_id': ObjectId('64be59a2f3deb84234055d93'), 'FHRSID': 919762, 'ChangesByServerID': 0, 'LocalAuthorityBusinessID': 'PI/000078700', 'BusinessName': 'Shooters', 'BusinessType': 'Restaurant/Cafe/Canteen', 'BusinessTypeID': 1, 'AddressLine1': '41 Charlton Church Ln', 'AddressLine2': '', 'AddressLine3': 'Charlton', 'AddressLine4': 'Greenwich', 'PostCode': 'SE7 7AE', 'Phone': '', 'RatingValue': '5', 'RatingKey': 'fhrs_5_en-gb', 'RatingDate': '2022-08-17T00:00:00', 'LocalAuthorityCode': '511', 'LocalAuthorityName': 'Greenwich', 'LocalAuthorityWebSite': 'http://www.royalgreenwich.gov.uk', 'LocalAuthorityEmailAddress': 'health@royalgreenwich.gov.uk', 'scores': {'Hygiene': 0, 'Structural': 5, 'ConfidenceInManagement': 0}, 'SchemeType': 'FHRS', 'geocode': {'longitude': '0.032597', 'latitude': '51.487704'}, 'RightToReply': '', 'Distance': 4587.347174863443, 'NewRatingPending': False, 'meta': {'dataSource': None, 'extractDate': '0001-01-01T00:00:00', 'itemCount': 0, 'returncode': None, 'totalCount': 0, 'totalPages': 0, 'pageSize': 0, 'pageNumber': 0}, 'links': [{'rel': 'self', 'href': 'http://api.ratings.food.gov.uk/establishments/919762'}]}\n"
     ]
    }
   ],
   "source": [
    "for doc in db.classroom.find():\n",
    "    print(doc)"
   ]
  },
  {
   "cell_type": "code",
   "execution_count": null,
   "id": "7f599f3d",
   "metadata": {},
   "outputs": [],
   "source": [
    "# this is to add to a list in the dict. my dict has list within a list\n",
    "# add item to document array\n",
    "db.classroom.update_one(\n",
    "    {'BusinessName': 'Jardin Corona'},\n",
    "    {'$push': {'scores':['New': 3]}}\n",
    ")"
   ]
  },
  {
   "cell_type": "code",
   "execution_count": 29,
   "id": "a6ad16f7",
   "metadata": {},
   "outputs": [
    {
     "data": {
      "text/plain": [
       "<pymongo.results.UpdateResult at 0x22f87dca2c0>"
      ]
     },
     "execution_count": 29,
     "metadata": {},
     "output_type": "execute_result"
    }
   ],
   "source": [
    "# $unset deletes list entry in dict\n",
    "# crap. this removed the entire scores field including the list\n",
    "db.classroom.update_one(\n",
    "    {'BusinessName': 'Jardin Corona'},\n",
    "    {'$unset': {'scores':'Hygiene'}}\n",
    ")"
   ]
  },
  {
   "cell_type": "code",
   "execution_count": 30,
   "id": "768474a6",
   "metadata": {},
   "outputs": [
    {
     "name": "stdout",
     "output_type": "stream",
     "text": [
      "{'_id': ObjectId('64be585af3deb84234055d91'), 'FHRSID': 919762, 'ChangesByServerID': 0, 'LocalAuthorityBusinessID': 'PI/000078700', 'BusinessName': 'Penang Flavours', 'BusinessType': 'Restaurant/Cafe/Canteen', 'BusinessTypeID': 1, 'AddressLine1': '41 Charlton Church Ln', 'AddressLine2': '', 'AddressLine3': 'Charlton', 'AddressLine4': 'Greenwich', 'PostCode': 'SE7 7AE', 'Phone': '', 'RatingValue': '5', 'RatingKey': 'fhrs_5_en-gb', 'RatingDate': '2022-08-17T00:00:00', 'LocalAuthorityCode': '511', 'LocalAuthorityName': 'Greenwich', 'LocalAuthorityWebSite': 'http://www.royalgreenwich.gov.uk', 'LocalAuthorityEmailAddress': 'health@royalgreenwich.gov.uk', 'scores': {'Hygiene': 0, 'Structural': 5, 'ConfidenceInManagement': 0}, 'SchemeType': 'FHRS', 'geocode': {'longitude': '0.032597', 'latitude': '51.487704'}, 'RightToReply': '', 'Distance': 4587.347174863443, 'NewRatingPending': False, 'meta': {'dataSource': None, 'extractDate': '0001-01-01T00:00:00', 'itemCount': 0, 'returncode': None, 'totalCount': 0, 'totalPages': 0, 'pageSize': 0, 'pageNumber': 0}, 'links': [{'rel': 'self', 'href': 'http://api.ratings.food.gov.uk/establishments/919762'}]}\n",
      "{'_id': ObjectId('64be59a2f3deb84234055d92'), 'FHRSID': 919762, 'ChangesByServerID': 0, 'LocalAuthorityBusinessID': 'PI/000078700', 'BusinessName': 'Jardin Corona', 'BusinessType': 'Shop', 'BusinessTypeID': 1, 'AddressLine1': '41 Charlton Church Ln', 'AddressLine2': '', 'AddressLine3': 'Charlton', 'AddressLine4': 'Greenwich', 'PostCode': 'SE7 7AE', 'Phone': '', 'RatingValue': '5', 'RatingKey': 'fhrs_5_en-gb', 'RatingDate': '2022-08-17T00:00:00', 'LocalAuthorityCode': '511', 'LocalAuthorityName': 'Greenwich', 'LocalAuthorityWebSite': 'http://www.royalgreenwich.gov.uk', 'LocalAuthorityEmailAddress': 'health@royalgreenwich.gov.uk', 'SchemeType': 'FHRS', 'geocode': {'longitude': '0.032597', 'latitude': '51.487704'}, 'RightToReply': '', 'Distance': 4587.347174863443, 'NewRatingPending': False, 'meta': {'dataSource': None, 'extractDate': '0001-01-01T00:00:00', 'itemCount': 0, 'returncode': None, 'totalCount': 0, 'totalPages': 0, 'pageSize': 0, 'pageNumber': 0}, 'links': [{'rel': 'self', 'href': 'http://api.ratings.food.gov.uk/establishments/919762'}]}\n",
      "{'_id': ObjectId('64be59a2f3deb84234055d93'), 'FHRSID': 919762, 'ChangesByServerID': 0, 'LocalAuthorityBusinessID': 'PI/000078700', 'BusinessName': 'Shooters', 'BusinessType': 'Restaurant/Cafe/Canteen', 'BusinessTypeID': 1, 'AddressLine1': '41 Charlton Church Ln', 'AddressLine2': '', 'AddressLine3': 'Charlton', 'AddressLine4': 'Greenwich', 'PostCode': 'SE7 7AE', 'Phone': '', 'RatingValue': '5', 'RatingKey': 'fhrs_5_en-gb', 'RatingDate': '2022-08-17T00:00:00', 'LocalAuthorityCode': '511', 'LocalAuthorityName': 'Greenwich', 'LocalAuthorityWebSite': 'http://www.royalgreenwich.gov.uk', 'LocalAuthorityEmailAddress': 'health@royalgreenwich.gov.uk', 'scores': {'Hygiene': 0, 'Structural': 5, 'ConfidenceInManagement': 0}, 'SchemeType': 'FHRS', 'geocode': {'longitude': '0.032597', 'latitude': '51.487704'}, 'RightToReply': '', 'Distance': 4587.347174863443, 'NewRatingPending': False, 'meta': {'dataSource': None, 'extractDate': '0001-01-01T00:00:00', 'itemCount': 0, 'returncode': None, 'totalCount': 0, 'totalPages': 0, 'pageSize': 0, 'pageNumber': 0}, 'links': [{'rel': 'self', 'href': 'http://api.ratings.food.gov.uk/establishments/919762'}]}\n"
     ]
    }
   ],
   "source": [
    "for doc in db.classroom.find():\n",
    "    print(doc)\n"
   ]
  },
  {
   "cell_type": "code",
   "execution_count": 31,
   "id": "a11d5f1b",
   "metadata": {},
   "outputs": [
    {
     "data": {
      "text/plain": [
       "<pymongo.results.DeleteResult at 0x22f883b3780>"
      ]
     },
     "execution_count": 31,
     "metadata": {},
     "output_type": "execute_result"
    }
   ],
   "source": [
    "# delete entire record\n",
    "db.classroom.delete_one({'BusinessName': 'Jardin Corona'})"
   ]
  },
  {
   "cell_type": "code",
   "execution_count": 32,
   "id": "2a51aba0",
   "metadata": {},
   "outputs": [
    {
     "name": "stdout",
     "output_type": "stream",
     "text": [
      "{'_id': ObjectId('64be585af3deb84234055d91'), 'FHRSID': 919762, 'ChangesByServerID': 0, 'LocalAuthorityBusinessID': 'PI/000078700', 'BusinessName': 'Penang Flavours', 'BusinessType': 'Restaurant/Cafe/Canteen', 'BusinessTypeID': 1, 'AddressLine1': '41 Charlton Church Ln', 'AddressLine2': '', 'AddressLine3': 'Charlton', 'AddressLine4': 'Greenwich', 'PostCode': 'SE7 7AE', 'Phone': '', 'RatingValue': '5', 'RatingKey': 'fhrs_5_en-gb', 'RatingDate': '2022-08-17T00:00:00', 'LocalAuthorityCode': '511', 'LocalAuthorityName': 'Greenwich', 'LocalAuthorityWebSite': 'http://www.royalgreenwich.gov.uk', 'LocalAuthorityEmailAddress': 'health@royalgreenwich.gov.uk', 'scores': {'Hygiene': 0, 'Structural': 5, 'ConfidenceInManagement': 0}, 'SchemeType': 'FHRS', 'geocode': {'longitude': '0.032597', 'latitude': '51.487704'}, 'RightToReply': '', 'Distance': 4587.347174863443, 'NewRatingPending': False, 'meta': {'dataSource': None, 'extractDate': '0001-01-01T00:00:00', 'itemCount': 0, 'returncode': None, 'totalCount': 0, 'totalPages': 0, 'pageSize': 0, 'pageNumber': 0}, 'links': [{'rel': 'self', 'href': 'http://api.ratings.food.gov.uk/establishments/919762'}]}\n",
      "{'_id': ObjectId('64be59a2f3deb84234055d93'), 'FHRSID': 919762, 'ChangesByServerID': 0, 'LocalAuthorityBusinessID': 'PI/000078700', 'BusinessName': 'Shooters', 'BusinessType': 'Restaurant/Cafe/Canteen', 'BusinessTypeID': 1, 'AddressLine1': '41 Charlton Church Ln', 'AddressLine2': '', 'AddressLine3': 'Charlton', 'AddressLine4': 'Greenwich', 'PostCode': 'SE7 7AE', 'Phone': '', 'RatingValue': '5', 'RatingKey': 'fhrs_5_en-gb', 'RatingDate': '2022-08-17T00:00:00', 'LocalAuthorityCode': '511', 'LocalAuthorityName': 'Greenwich', 'LocalAuthorityWebSite': 'http://www.royalgreenwich.gov.uk', 'LocalAuthorityEmailAddress': 'health@royalgreenwich.gov.uk', 'scores': {'Hygiene': 0, 'Structural': 5, 'ConfidenceInManagement': 0}, 'SchemeType': 'FHRS', 'geocode': {'longitude': '0.032597', 'latitude': '51.487704'}, 'RightToReply': '', 'Distance': 4587.347174863443, 'NewRatingPending': False, 'meta': {'dataSource': None, 'extractDate': '0001-01-01T00:00:00', 'itemCount': 0, 'returncode': None, 'totalCount': 0, 'totalPages': 0, 'pageSize': 0, 'pageNumber': 0}, 'links': [{'rel': 'self', 'href': 'http://api.ratings.food.gov.uk/establishments/919762'}]}\n"
     ]
    }
   ],
   "source": [
    "for doc in db.classroom.find():\n",
    "    print(doc)\n"
   ]
  },
  {
   "cell_type": "code",
   "execution_count": 33,
   "id": "8c356f7b",
   "metadata": {},
   "outputs": [],
   "source": [
    "# create new db THIS STATEMENT MUST BE RAN IN COMMAND PROMPT\n",
    "mongoimport --type csv -d testcsv -c customer_list --headerline --drop customer_database.csv"
   ]
  },
  {
   "cell_type": "code",
   "execution_count": 34,
   "id": "e3fbe495",
   "metadata": {},
   "outputs": [
    {
     "data": {
      "text/plain": [
       "['admin',\n",
       " 'classDB',\n",
       " 'config',\n",
       " 'fruits_db',\n",
       " 'local',\n",
       " 'petsitly_marketing',\n",
       " 'testcsv',\n",
       " 'testdb',\n",
       " 'travel_db',\n",
       " 'uk_food']"
      ]
     },
     "execution_count": 34,
     "metadata": {},
     "output_type": "execute_result"
    }
   ],
   "source": [
    "# verify db created\n",
    "mongo.list_database_names()"
   ]
  },
  {
   "cell_type": "code",
   "execution_count": 36,
   "id": "fd4112ce",
   "metadata": {},
   "outputs": [
    {
     "data": {
      "text/plain": [
       "Database(MongoClient(host=['localhost:27017'], document_class=dict, tz_aware=False, connect=True), 'testcsv')"
      ]
     },
     "execution_count": 36,
     "metadata": {},
     "output_type": "execute_result"
    }
   ],
   "source": [
    "# assign db variable name\n",
    "db = mongo['testcsv']\n",
    "db"
   ]
  },
  {
   "cell_type": "code",
   "execution_count": 37,
   "id": "04430a5b",
   "metadata": {},
   "outputs": [
    {
     "data": {
      "text/plain": [
       "['customer_list']"
      ]
     },
     "execution_count": 37,
     "metadata": {},
     "output_type": "execute_result"
    }
   ],
   "source": [
    "# verify collection created\n",
    "db.list_collection_names()"
   ]
  },
  {
   "cell_type": "code",
   "execution_count": 38,
   "id": "92524ccc",
   "metadata": {},
   "outputs": [],
   "source": [
    "# assign collection variable name\n",
    "customer_list = db.customer_list"
   ]
  },
  {
   "cell_type": "code",
   "execution_count": 41,
   "id": "0deacaf9",
   "metadata": {},
   "outputs": [
    {
     "data": {
      "text/plain": [
       "{'_id': ObjectId('64be60b064f3214c16e44249'),\n",
       " 'Customer_First': 'Tyrese',\n",
       " 'Customer_Last': 'Buckridge',\n",
       " 'Address': '2533 Ford Views',\n",
       " 'Email': 'wcastro@yahoo.com',\n",
       " '2021_Visits': 27,\n",
       " '2021_Total_Spend': 465.75,\n",
       " 'Pet_Type': 'bird'}"
      ]
     },
     "execution_count": 41,
     "metadata": {},
     "output_type": "execute_result"
    }
   ],
   "source": [
    "# pull one doc to see structure of document\n",
    "customer_list.find_one()\n"
   ]
  },
  {
   "cell_type": "code",
   "execution_count": 42,
   "id": "71fafa6b",
   "metadata": {},
   "outputs": [
    {
     "data": {
      "text/plain": [
       "<pymongo.results.InsertOneResult at 0x22f84d36600>"
      ]
     },
     "execution_count": 42,
     "metadata": {},
     "output_type": "execute_result"
    }
   ],
   "source": [
    "customer_list.insert_one({\n",
    "    'Customer_First': 'Bob',\n",
    "    'Customer_Last': 'Smith',\n",
    "    'Address': '2533 Ford Views',\n",
    "    'Email': 'wcastro@yahoo.com',\n",
    "    '2021_Visits': 27,\n",
    "    '2021_Total_Spend': 465.75,\n",
    "    'Pet_Type': 'bird'\n",
    "})"
   ]
  },
  {
   "cell_type": "code",
   "execution_count": 43,
   "id": "7d799225",
   "metadata": {},
   "outputs": [],
   "source": [
    "# create variable to use as filter\n",
    "filter = {'Customer_First': 'Bob'}"
   ]
  },
  {
   "cell_type": "code",
   "execution_count": 45,
   "id": "584a70c2",
   "metadata": {},
   "outputs": [
    {
     "name": "stdout",
     "output_type": "stream",
     "text": [
      "{'_id': ObjectId('64be6244f3deb84234055d94'), 'Customer_First': 'Bob', 'Customer_Last': 'Smith', 'Address': '2533 Ford Views', 'Email': 'wcastro@yahoo.com', '2021_Visits': 27, '2021_Total_Spend': 465.75, 'Pet_Type': 'bird'}\n"
     ]
    }
   ],
   "source": [
    "# filter results using filter variable\n",
    "for doc in customer_list.find(filter):\n",
    "    print(doc)"
   ]
  },
  {
   "cell_type": "code",
   "execution_count": 46,
   "id": "78941c7a",
   "metadata": {},
   "outputs": [
    {
     "name": "stdout",
     "output_type": "stream",
     "text": [
      "{'_id': ObjectId('64be60b064f3214c16e44249'), 'Customer_First': 'Tyrese', 'Customer_Last': 'Buckridge', 'Address': '2533 Ford Views', 'Email': 'wcastro@yahoo.com', '2021_Visits': 27, '2021_Total_Spend': 465.75, 'Pet_Type': 'bird'}\n",
      "{'_id': ObjectId('64be60b064f3214c16e4425f'), 'Customer_First': 'Jamin', 'Customer_Last': 'Kassulke', 'Address': '9429 Wright Circle Apt. 832', 'Email': 'laurahill@hotmail.com', '2021_Visits': 7, '2021_Total_Spend': 120.75, 'Pet_Type': 'bird'}\n",
      "{'_id': ObjectId('64be60b064f3214c16e44261'), 'Customer_First': 'Layton', 'Customer_Last': 'Towne', 'Address': '83592 Estrada Stravenue Suite 346', 'Email': 'ericterry@yahoo.com', '2021_Visits': 33, '2021_Total_Spend': 569.25, 'Pet_Type': 'bird'}\n",
      "{'_id': ObjectId('64be60b064f3214c16e44263'), 'Customer_First': 'Emile', 'Customer_Last': 'Leannon', 'Address': '6543 Daniel Pass', 'Email': 'yroman@hotmail.com', '2021_Visits': 27, '2021_Total_Spend': 465.75, 'Pet_Type': 'bird'}\n",
      "{'_id': ObjectId('64be60b064f3214c16e44264'), 'Customer_First': 'Erasmus', 'Customer_Last': 'Ankunding', 'Address': '32679 Jennifer Burgs Suite 508', 'Email': 'fwelch@yahoo.com', '2021_Visits': 83, '2021_Total_Spend': 1431.75, 'Pet_Type': 'bird'}\n",
      "{'_id': ObjectId('64be60b064f3214c16e44268'), 'Customer_First': 'Trevon', 'Customer_Last': 'Murray', 'Address': '0155 Merritt Bypass Apt. 329', 'Email': 'qherrera@yahoo.com', '2021_Visits': 40, '2021_Total_Spend': 690.0, 'Pet_Type': 'bird'}\n",
      "{'_id': ObjectId('64be60b064f3214c16e4426e'), 'Customer_First': 'Alfonzo', 'Customer_Last': 'Labadie', 'Address': '568 Travis Ways', 'Email': 'emily73@hotmail.com', '2021_Visits': 51, '2021_Total_Spend': 879.75, 'Pet_Type': 'bird'}\n",
      "{'_id': ObjectId('64be60b064f3214c16e44270'), 'Customer_First': 'Garry', 'Customer_Last': 'Hane', 'Address': '9251 Young Plain', 'Email': 'connie57@yahoo.com', '2021_Visits': 48, '2021_Total_Spend': 828.0, 'Pet_Type': 'bird'}\n",
      "{'_id': ObjectId('64be60b064f3214c16e4427f'), 'Customer_First': 'Shaquita', 'Customer_Last': 'Grant', 'Address': '2229 Hawkins Canyon Apt. 940', 'Email': 'rachel58@yahoo.com', '2021_Visits': 10, '2021_Total_Spend': 172.5, 'Pet_Type': 'bird'}\n",
      "{'_id': ObjectId('64be60b064f3214c16e44280'), 'Customer_First': 'Raquan', 'Customer_Last': 'Weimann', 'Address': '3575 Delgado Keys', 'Email': 'adamsjessica@gmail.com', '2021_Visits': 70, '2021_Total_Spend': 1207.5, 'Pet_Type': 'bird'}\n",
      "{'_id': ObjectId('64be60b064f3214c16e44281'), 'Customer_First': 'Krystin', 'Customer_Last': 'Roberts', 'Address': '674 Richard Villages Apt. 885', 'Email': 'lbaker@gmail.com', '2021_Visits': 27, '2021_Total_Spend': 465.75, 'Pet_Type': 'bird'}\n",
      "{'_id': ObjectId('64be60b064f3214c16e4428c'), 'Customer_First': 'Taurean', 'Customer_Last': 'Nader', 'Address': '006 Marsh Road', 'Email': 'christina38@hotmail.com', '2021_Visits': 90, '2021_Total_Spend': 1552.5, 'Pet_Type': 'bird'}\n",
      "{'_id': ObjectId('64be60b064f3214c16e44291'), 'Customer_First': 'Belia', 'Customer_Last': 'Kub', 'Address': '2311 Austin Tunnel', 'Email': 'pmartinez@yahoo.com', '2021_Visits': 92, '2021_Total_Spend': 1587.0, 'Pet_Type': 'bird'}\n",
      "{'_id': ObjectId('64be60b064f3214c16e442a3'), 'Customer_First': 'Cleveland', 'Customer_Last': 'Russel', 'Address': '62356 Allen Spring Apt. 040', 'Email': 'kcurry@gmail.com', '2021_Visits': 31, '2021_Total_Spend': 534.75, 'Pet_Type': 'bird'}\n",
      "{'_id': ObjectId('64be60b064f3214c16e442a8'), 'Customer_First': 'Tanner', 'Customer_Last': 'Durgan', 'Address': '142 Mccarthy Glen', 'Email': 'joyce12@gmail.com', '2021_Visits': 98, '2021_Total_Spend': 1690.5, 'Pet_Type': 'bird'}\n",
      "{'_id': ObjectId('64be60b064f3214c16e442b5'), 'Customer_First': 'Salma', 'Customer_Last': 'Rempel', 'Address': '7263 Kimberly Radial', 'Email': 'gmoore@hotmail.com', '2021_Visits': 98, '2021_Total_Spend': 1690.5, 'Pet_Type': 'bird'}\n",
      "{'_id': ObjectId('64be60b064f3214c16e442cf'), 'Customer_First': 'Britt', 'Customer_Last': 'Dicki', 'Address': '01004 Vanessa Lane', 'Email': 'yhill@gmail.com', '2021_Visits': 79, '2021_Total_Spend': 1362.75, 'Pet_Type': 'bird'}\n",
      "{'_id': ObjectId('64be60b064f3214c16e442d7'), 'Customer_First': 'Deasia', 'Customer_Last': 'Murazik', 'Address': '403 Ashley Parkways', 'Email': 'jeffrey95@yahoo.com', '2021_Visits': 35, '2021_Total_Spend': 603.75, 'Pet_Type': 'bird'}\n",
      "{'_id': ObjectId('64be60b064f3214c16e442e6'), 'Customer_First': 'Jasmyne', 'Customer_Last': 'Schmeler', 'Address': '8236 Terry Harbor', 'Email': 'tylerdavid@gmail.com', '2021_Visits': 21, '2021_Total_Spend': 362.25, 'Pet_Type': 'bird'}\n",
      "{'_id': ObjectId('64be60b064f3214c16e442f0'), 'Customer_First': 'Vince', 'Customer_Last': 'Parisian', 'Address': '9835 Gibbs Knoll Apt. 013', 'Email': 'bcoleman@hotmail.com', '2021_Visits': 51, '2021_Total_Spend': 879.75, 'Pet_Type': 'bird'}\n",
      "{'_id': ObjectId('64be60b064f3214c16e4431a'), 'Customer_First': 'Jaliyah', 'Customer_Last': 'Gutmann', 'Address': '25537 Ivan Junctions Suite 546', 'Email': 'marydaniel@yahoo.com', '2021_Visits': 39, '2021_Total_Spend': 672.75, 'Pet_Type': 'bird'}\n",
      "{'_id': ObjectId('64be60b064f3214c16e44321'), 'Customer_First': 'Kelsie', 'Customer_Last': 'VonRueden', 'Address': '529 Kelly Manors', 'Email': 'ycolon@yahoo.com', '2021_Visits': 66, '2021_Total_Spend': 1138.5, 'Pet_Type': 'bird'}\n",
      "{'_id': ObjectId('64be60b064f3214c16e44325'), 'Customer_First': 'Arden', 'Customer_Last': 'Becker', 'Address': '1605 Davis Radial', 'Email': 'ukramer@gmail.com', '2021_Visits': 25, '2021_Total_Spend': 431.25, 'Pet_Type': 'bird'}\n",
      "{'_id': ObjectId('64be60b064f3214c16e44331'), 'Customer_First': 'Leone', 'Customer_Last': 'Jones', 'Address': '5016 Haas Ferry Suite 498', 'Email': 'thompsonlonnie@hotmail.com', '2021_Visits': 33, '2021_Total_Spend': 569.25, 'Pet_Type': 'bird'}\n",
      "{'_id': ObjectId('64be60b064f3214c16e44347'), 'Customer_First': 'Donita', 'Customer_Last': 'Torphy', 'Address': '54673 Erin Run', 'Email': 'tnorman@hotmail.com', '2021_Visits': 79, '2021_Total_Spend': 1362.75, 'Pet_Type': 'bird'}\n",
      "{'_id': ObjectId('64be6244f3deb84234055d94'), 'Customer_First': 'Bob', 'Customer_Last': 'Smith', 'Address': '2533 Ford Views', 'Email': 'wcastro@yahoo.com', '2021_Visits': 27, '2021_Total_Spend': 465.75, 'Pet_Type': 'bird'}\n"
     ]
    }
   ],
   "source": [
    "# look for docs with pet_type = bird\n",
    "filter = {'Pet_Type': 'bird'}\n",
    "for doc in customer_list.find(filter):\n",
    "    print(doc)"
   ]
  },
  {
   "cell_type": "code",
   "execution_count": 47,
   "id": "9396745b",
   "metadata": {},
   "outputs": [
    {
     "data": {
      "text/plain": [
       "<pymongo.results.DeleteResult at 0x22f869a10c0>"
      ]
     },
     "execution_count": 47,
     "metadata": {},
     "output_type": "execute_result"
    }
   ],
   "source": [
    "# delete all documents with pet_type = bird\n",
    "customer_list.delete_many(filter)"
   ]
  },
  {
   "cell_type": "code",
   "execution_count": 48,
   "id": "0ede349c",
   "metadata": {},
   "outputs": [],
   "source": [
    "# verify records deleted\n",
    "for doc in customer_list.find(filter):\n",
    "    print(doc)"
   ]
  },
  {
   "cell_type": "code",
   "execution_count": 49,
   "id": "b0540be9",
   "metadata": {},
   "outputs": [
    {
     "data": {
      "text/plain": [
       "{'nIndexesWas': 1, 'ns': 'testcsv.customer_list', 'ok': 1.0}"
      ]
     },
     "execution_count": 49,
     "metadata": {},
     "output_type": "execute_result"
    }
   ],
   "source": [
    "# delete a collection\n",
    "db.drop_collection('customer_list')"
   ]
  },
  {
   "cell_type": "code",
   "execution_count": 50,
   "id": "bfe40916",
   "metadata": {},
   "outputs": [
    {
     "data": {
      "text/plain": [
       "[]"
      ]
     },
     "execution_count": 50,
     "metadata": {},
     "output_type": "execute_result"
    }
   ],
   "source": [
    "# verify collection deleted\n",
    "db.list_collection_names()"
   ]
  },
  {
   "cell_type": "code",
   "execution_count": 51,
   "id": "c32fbe4d",
   "metadata": {},
   "outputs": [],
   "source": [
    "# drop database\n",
    "mongo.drop_database('testcsv')"
   ]
  },
  {
   "cell_type": "code",
   "execution_count": 52,
   "id": "6553bcac",
   "metadata": {},
   "outputs": [
    {
     "data": {
      "text/plain": [
       "['admin',\n",
       " 'classDB',\n",
       " 'config',\n",
       " 'fruits_db',\n",
       " 'local',\n",
       " 'petsitly_marketing',\n",
       " 'testdb',\n",
       " 'travel_db',\n",
       " 'uk_food']"
      ]
     },
     "execution_count": 52,
     "metadata": {},
     "output_type": "execute_result"
    }
   ],
   "source": [
    "# verify database dropped\n",
    "mongo.list_database_names()"
   ]
  },
  {
   "cell_type": "code",
   "execution_count": null,
   "id": "0e82e979",
   "metadata": {},
   "outputs": [],
   "source": []
  }
 ],
 "metadata": {
  "kernelspec": {
   "display_name": "Python 3 (ipykernel)",
   "language": "python",
   "name": "python3"
  },
  "language_info": {
   "codemirror_mode": {
    "name": "ipython",
    "version": 3
   },
   "file_extension": ".py",
   "mimetype": "text/x-python",
   "name": "python",
   "nbconvert_exporter": "python",
   "pygments_lexer": "ipython3",
   "version": "3.10.12"
  }
 },
 "nbformat": 4,
 "nbformat_minor": 5
}
