{
 "cells": [
  {
   "cell_type": "code",
   "execution_count": 1,
   "id": "cccb1629",
   "metadata": {},
   "outputs": [],
   "source": [
    "# Import dependencies\n",
    "from pymongo import MongoClient\n",
    "from pprint import pprint"
   ]
  },
  {
   "cell_type": "code",
   "execution_count": 2,
   "id": "6e41144e",
   "metadata": {},
   "outputs": [],
   "source": [
    "# Create an instance of MongoClient\n",
    "mongo = MongoClient(port=27017)"
   ]
  },
  {
   "cell_type": "code",
   "execution_count": 3,
   "id": "b72199d9",
   "metadata": {},
   "outputs": [
    {
     "name": "stdout",
     "output_type": "stream",
     "text": [
      "['admin', 'autosaurus', 'classDB', 'config', 'fruits_db', 'local', 'petsitly_marketing', 'test', 'testdb', 'travel_db', 'uk_food']\n"
     ]
    }
   ],
   "source": [
    "# confirm that the \"autosaurus\" database is in MongoDB\n",
    "print(mongo.list_database_names())"
   ]
  },
  {
   "cell_type": "code",
   "execution_count": 4,
   "id": "3c565dc5",
   "metadata": {},
   "outputs": [],
   "source": [
    "# assign the database to a variable name\n",
    "db = mongo['autosaurus']"
   ]
  },
  {
   "cell_type": "code",
   "execution_count": 5,
   "id": "584d452d",
   "metadata": {},
   "outputs": [
    {
     "name": "stdout",
     "output_type": "stream",
     "text": [
      "['mechanics', 'customers']\n"
     ]
    }
   ],
   "source": [
    "# review the collections in our new database\n",
    "print(db.list_collection_names())"
   ]
  },
  {
   "cell_type": "code",
   "execution_count": 6,
   "id": "229c0197",
   "metadata": {},
   "outputs": [],
   "source": [
    "# assign each collection to a variable\n",
    "customers = db['customers']\n",
    "mechanics = db['mechanics']"
   ]
  },
  {
   "cell_type": "code",
   "execution_count": 9,
   "id": "dec3365f",
   "metadata": {},
   "outputs": [
    {
     "name": "stdout",
     "output_type": "stream",
     "text": [
      "{'_id': 5, 'full_name': 'Cinda Blackie'}\n",
      "{'_id': 2, 'full_name': 'Pammy Giacomasso'}\n"
     ]
    }
   ],
   "source": [
    "# Create a query that finds the customers who have cars from 2010 or later\n",
    "query = {'car_year': {'$gte':2010}}\n",
    "fields = {'full_name':1}\n",
    "# Capture the results to a variable\n",
    "results = customers.find(query,fields)\n",
    "\n",
    "# Pretty print the first two results\n",
    "for doc in range(2):\n",
    "    print(results[doc])"
   ]
  },
  {
   "cell_type": "code",
   "execution_count": 10,
   "id": "fb1e93a6",
   "metadata": {},
   "outputs": [
    {
     "name": "stdout",
     "output_type": "stream",
     "text": [
      "{'_id': 24, 'full_name': 'Immanuel Rodie'}\n",
      "{'_id': 35, 'full_name': 'Ettore De La Coste'}\n"
     ]
    }
   ],
   "source": [
    "# Create a query that finds the customers who have cars that were manufactured before 1990\n",
    "query = {'car_year': {'$lt':1990}}\n",
    "fields = {'full_name':1}\n",
    "\n",
    "# Capture the results to a variable\n",
    "results = customers.find(query,fields)\n",
    "\n",
    "# Pretty print the first two results\n",
    "for doc in range(2):\n",
    "    print(results[doc])"
   ]
  },
  {
   "cell_type": "code",
   "execution_count": 11,
   "id": "f081d145",
   "metadata": {},
   "outputs": [
    {
     "name": "stdout",
     "output_type": "stream",
     "text": [
      "104\n"
     ]
    }
   ],
   "source": [
    "print(customers.count_documents(query))"
   ]
  },
  {
   "cell_type": "code",
   "execution_count": 12,
   "id": "72f905b4",
   "metadata": {},
   "outputs": [
    {
     "name": "stdout",
     "output_type": "stream",
     "text": [
      "{'_id': 70, 'full_name': 'Billy Nye', 'car_make': 'Buick', 'car_model': 'Regal', 'car_year': 2003, 'car_vin': '1G4GC5GCXBF481339', 'last_service': '7/11/22'}\n",
      "{'_id': 106, 'full_name': 'Nye Barlie', 'car_make': 'GMC', 'car_model': 'Suburban 1500', 'car_year': 1992, 'car_vin': '2G61N5S33D9232665', 'last_service': '8/29/22'}\n"
     ]
    }
   ],
   "source": [
    "# Create a query that finds the customer(s) who have \"Nye\" in their name\n",
    "query = {'full_name': {'$regex': 'Nye'}}\n",
    "\n",
    "# Capture the results to a variable\n",
    "results = customers.find(query)\n",
    "\n",
    "# Pretty print the results\n",
    "for doc in results:\n",
    "    print(doc)\n"
   ]
  },
  {
   "cell_type": "code",
   "execution_count": 20,
   "id": "ee34ddd5",
   "metadata": {},
   "outputs": [
    {
     "name": "stdout",
     "output_type": "stream",
     "text": [
      "{'_id': ObjectId('64be6655dd2644be1dd55d52'), 'mechanic_name': 'Dacey Cocom', 'car_specialties': ['Jaguar', 'Hummer', 'Mitsubishi', 'Geo', 'Holden', 'Rolls-Royce', 'Mercury', 'Subaru', 'Maybach']}\n"
     ]
    }
   ],
   "source": [
    "# To create a query that finds the customers who have cars that the mechanic \"Dacey Cocom\" can work on,\n",
    "# first we must find the types of cars Dacey specializes in.\n",
    "query = {'mechanic_name': 'Dacey Cocom'}\n",
    "fields = {'mechanic_name':1, 'car_specialties':1}\n",
    "\n",
    "# Capture the results to a variable\n",
    "results = mechanics.find(query,fields)\n",
    "\n",
    "# Pretty print the results\n",
    "for result in results:\n",
    "    print(result)"
   ]
  },
  {
   "cell_type": "code",
   "execution_count": 22,
   "id": "418710d4",
   "metadata": {},
   "outputs": [],
   "source": [
    "# change results to a list\n",
    "results = list(mechanics.find(query,fields))"
   ]
  },
  {
   "cell_type": "code",
   "execution_count": 24,
   "id": "1b59b600",
   "metadata": {},
   "outputs": [],
   "source": [
    "# Save the 'car_specialties' to a variable\n",
    "dacey_cars = results[0]['car_specialties']"
   ]
  },
  {
   "cell_type": "code",
   "execution_count": 25,
   "id": "7c83d165",
   "metadata": {},
   "outputs": [
    {
     "name": "stdout",
     "output_type": "stream",
     "text": [
      "{'_id': 51, 'full_name': 'Veronike Dunkinson', 'car_make': 'Jaguar', 'car_model': 'S-Type', 'car_year': 2005, 'car_vin': 'WAU2GAFC4EN899609', 'last_service': '10/5/22'}\n",
      "{'_id': 56, 'full_name': 'Blaire Ochterlony', 'car_make': 'Hummer', 'car_model': 'H1', 'car_year': 1998, 'car_vin': '1G4PT5SV6F4016518', 'last_service': '10/22/21'}\n"
     ]
    }
   ],
   "source": [
    "# Create a query that finds the customers who have cars that the mechanic \"Dacey Cocom\" can work on\n",
    "query = {'car_make': {'$in': dacey_cars}}\n",
    "\n",
    "# Capture the results to a variable\n",
    "results = customers.find(query)\n",
    "\n",
    "# Pretty print the first two results\n",
    "for doc in range(2):\n",
    "    print(results[doc])"
   ]
  },
  {
   "cell_type": "code",
   "execution_count": null,
   "id": "d799b32b",
   "metadata": {},
   "outputs": [],
   "source": []
  }
 ],
 "metadata": {
  "kernelspec": {
   "display_name": "Python 3 (ipykernel)",
   "language": "python",
   "name": "python3"
  },
  "language_info": {
   "codemirror_mode": {
    "name": "ipython",
    "version": 3
   },
   "file_extension": ".py",
   "mimetype": "text/x-python",
   "name": "python",
   "nbconvert_exporter": "python",
   "pygments_lexer": "ipython3",
   "version": "3.10.12"
  }
 },
 "nbformat": 4,
 "nbformat_minor": 5
}
