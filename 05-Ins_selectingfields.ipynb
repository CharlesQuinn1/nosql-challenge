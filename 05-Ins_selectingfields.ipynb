{
 "cells": [
  {
   "cell_type": "code",
   "execution_count": 1,
   "id": "747a0d11",
   "metadata": {},
   "outputs": [],
   "source": [
    "# Import dependencies\n",
    "from pymongo import MongoClient\n",
    "from pprint import pprint"
   ]
  },
  {
   "cell_type": "code",
   "execution_count": 2,
   "id": "638a4467",
   "metadata": {},
   "outputs": [],
   "source": [
    "# Create an instance of MongoClient\n",
    "mongo = MongoClient(port=27017)"
   ]
  },
  {
   "cell_type": "code",
   "execution_count": 7,
   "id": "22f2d463",
   "metadata": {},
   "outputs": [
    {
     "name": "stdout",
     "output_type": "stream",
     "text": [
      "['admin', 'classDB', 'config', 'fruits_db', 'local', 'petsitly_marketing', 'test', 'testdb', 'travel_db', 'uk_food']\n"
     ]
    }
   ],
   "source": [
    "# confirm that the \"autosaurus\" database is in MongoDB\n",
    "print(mongo.list_database_names())"
   ]
  },
  {
   "cell_type": "code",
   "execution_count": 8,
   "id": "67be1866",
   "metadata": {},
   "outputs": [],
   "source": [
    "# assign the database to a variable name\n",
    "db = mongo['autosaurus']"
   ]
  },
  {
   "cell_type": "code",
   "execution_count": 11,
   "id": "f45f011a",
   "metadata": {},
   "outputs": [
    {
     "name": "stdout",
     "output_type": "stream",
     "text": [
      "['mechanics', 'customers']\n"
     ]
    }
   ],
   "source": [
    "# review the collections in our new database\n",
    "print(db.list_collection_names())"
   ]
  },
  {
   "cell_type": "code",
   "execution_count": 12,
   "id": "21f07dba",
   "metadata": {},
   "outputs": [],
   "source": [
    "# assign each collection to a variable\n",
    "customers = db['customers']\n",
    "mechanics = db['mechanics']"
   ]
  },
  {
   "cell_type": "code",
   "execution_count": 19,
   "id": "41dc94d3",
   "metadata": {},
   "outputs": [
    {
     "name": "stdout",
     "output_type": "stream",
     "text": [
      "_id\n",
      "full_name\n",
      "car_make\n",
      "car_model\n",
      "car_year\n",
      "car_vin\n",
      "last_service\n"
     ]
    },
    {
     "data": {
      "text/plain": [
       "49"
      ]
     },
     "execution_count": 19,
     "metadata": {},
     "output_type": "execute_result"
    }
   ],
   "source": [
    "# Create a query that finds the customers who have a Toyota\n",
    "filter = {'car_make': 'Toyota'}\n",
    "for doc in customers.find_one(filter):\n",
    "    print(doc)\n",
    "\n",
    "# Print the number of results\n",
    "customers.count_documents(filter=filter)"
   ]
  },
  {
   "cell_type": "code",
   "execution_count": 22,
   "id": "d0a01c12",
   "metadata": {},
   "outputs": [
    {
     "data": {
      "text/plain": [
       "1000"
      ]
     },
     "execution_count": 22,
     "metadata": {},
     "output_type": "execute_result"
    }
   ],
   "source": [
    "# Display the number of documents in the customers collection\n",
    "customers.count_documents({})"
   ]
  },
  {
   "cell_type": "code",
   "execution_count": 32,
   "id": "54a5d141",
   "metadata": {},
   "outputs": [
    {
     "name": "stdout",
     "output_type": "stream",
     "text": [
      "{'_id': ObjectId('64be6655dd2644be1dd55d4f'), 'mechanic_name': 'Ai Tanaka', 'wages': {'hourly_rate': '50', 'weekly_hours': 40}, 'contact': {'phone': '555-876-8755', 'email': 'tanakaa@autosaurus.com'}, 'hours': {'Tuesday': '8am-4pm', 'Wednesday': '11am-7pm', 'Thursday': '10am-6pm', 'Friday': '8am-4pm', 'Saturday': '8am-4pm'}, 'car_specialties': ['Ferrari', 'Porsche', 'Lexus', 'Nissan', 'Saab', 'Jeep', 'Isuzu', 'Fillmore', 'Citroën']}\n",
      "{'_id': ObjectId('64be6655dd2644be1dd55d50'), 'mechanic_name': 'Quenti Yupanqui', 'wages': {'hourly_rate': '46.75', 'weekly_hours': 40}, 'contact': {'phone': '555-876-8759', 'email': 'yupanquiq@autosaurus.com'}, 'hours': {'Monday': '8am-4pm', 'Tuesday': '11am-7pm', 'Wednesday': '10am-6pm', 'Thursday': '8am-4pm', 'Friday': '8am-4pm'}, 'car_specialties': ['Ram', 'Bentley', 'Land Rover', 'Lamborghini', 'Acura', 'Suzuki', 'Alfa Romeo', 'Scion']}\n",
      "{'_id': ObjectId('64be6655dd2644be1dd55d51'), 'mechanic_name': 'Spanner McGee', 'wages': {'hourly_rate': '40', 'weekly_hours': 40}, 'contact': {'phone': '555-876-8754', 'email': 'spanner@autosaurus.com'}, 'hours': {'Monday': '8am-4pm', 'Tuesday': '11am-7pm', 'Wednesday': '10am-6pm', 'Thursday': '8am-4pm', 'Sunday': '8am-4pm'}, 'car_specialties': ['Ford', 'Volkswagen', 'Chrysler', 'Hyundai', 'Shelby', 'GMC', 'Mercedes-Benz', 'Saturn', 'Chevrolet']}\n",
      "{'_id': ObjectId('64be6655dd2644be1dd55d52'), 'mechanic_name': 'Dacey Cocom', 'wages': {'hourly_rate': '48.10', 'weekly_hours': 40}, 'contact': {'phone': '555-876-8758', 'email': 'cocomd@autosaurus.com'}, 'hours': {'Wednesday': '8am-4pm', 'Thursday': '11am-7pm', 'Friday': '10am-6pm', 'Saturday': '11am-7pm', 'Sunday': '11am-7pm'}, 'car_specialties': ['Jaguar', 'Hummer', 'Mitsubishi', 'Geo', 'Holden', 'Rolls-Royce', 'Mercury', 'Subaru', 'Maybach']}\n",
      "{'_id': ObjectId('64be6655dd2644be1dd55d53'), 'mechanic_name': 'Taiwo Sani', 'wages': {'hourly_rate': '42', 'weekly_hours': 40}, 'contact': {'phone': '555-876-8760', 'email': 'sanit@autosaurus.com'}, 'hours': {'Tuesday': '9am-5pm', 'Wednesday': '9am-5pm', 'Thursday': '8am-4pm', 'Friday': '9am-5pm', 'Saturday': '11am-7pm'}, 'car_specialties': ['Merkur', 'Infiniti', 'Rambler', 'Aptera', 'Maserati', 'Oldsmobile', 'Morgan', 'Spyker', 'Smart']}\n",
      "{'_id': ObjectId('64be6655dd2644be1dd55d54'), 'mechanic_name': 'Gwan Jun-ho', 'wages': {'hourly_rate': '40', 'weekly_hours': 40}, 'contact': {'phone': '555-876-8757', 'email': 'gwanj@autosaurus.com'}, 'hours': {'Monday': '8am-4pm', 'Tuesday': '11am-7pm', 'Wednesday': '10am-6pm', 'Thursday': '8am-4pm', 'Friday': '8am-4pm'}, 'car_specialties': ['Volvo', 'Buick', 'Honda', 'Lotus', 'Lincoln', 'Plymouth', 'Aston Martin', 'Kia']}\n",
      "{'_id': ObjectId('64be6655dd2644be1dd55d55'), 'mechanic_name': 'Parvati Khatri', 'wages': {'hourly_rate': '43.50', 'weekly_hours': 40}, 'contact': {'phone': '555-876-8756', 'email': 'khatrip@autosaurus.com'}, 'hours': {'Monday': '11am-7pm', 'Tuesday': '10am-6pm', 'Friday': '10am-6pm', 'Saturday': '8am-4pm', 'Sunday': '8am-4pm'}, 'car_specialties': ['Cadillac', 'BMW', 'Mazda', 'MINI', 'Audi', 'Eagle', 'Dodge', 'Toyota', 'Pontiac']}\n"
     ]
    }
   ],
   "source": [
    "for doc in mechanics.find():\n",
    "    print(doc)"
   ]
  },
  {
   "cell_type": "code",
   "execution_count": 28,
   "id": "c65b7797",
   "metadata": {},
   "outputs": [
    {
     "data": {
      "text/plain": [
       "7"
      ]
     },
     "execution_count": 28,
     "metadata": {},
     "output_type": "execute_result"
    }
   ],
   "source": [
    "# Create a query that finds the mechanics who work 40 hours a week\n",
    "filter = {'wages.weekly_hours': 40}\n",
    "\n",
    "# Print the number of results\n",
    "mechanics.count_documents(filter=filter)"
   ]
  },
  {
   "cell_type": "code",
   "execution_count": 30,
   "id": "dc60e75b",
   "metadata": {},
   "outputs": [
    {
     "name": "stdout",
     "output_type": "stream",
     "text": [
      "{'_id': ObjectId('64be6655dd2644be1dd55d4f'),\n",
      " 'car_specialties': ['Ferrari',\n",
      "                     'Porsche',\n",
      "                     'Lexus',\n",
      "                     'Nissan',\n",
      "                     'Saab',\n",
      "                     'Jeep',\n",
      "                     'Isuzu',\n",
      "                     'Fillmore',\n",
      "                     'Citroën'],\n",
      " 'contact': {'email': 'tanakaa@autosaurus.com', 'phone': '555-876-8755'},\n",
      " 'hours': {'Friday': '8am-4pm',\n",
      "           'Saturday': '8am-4pm',\n",
      "           'Thursday': '10am-6pm',\n",
      "           'Tuesday': '8am-4pm',\n",
      "           'Wednesday': '11am-7pm'},\n",
      " 'mechanic_name': 'Ai Tanaka',\n",
      " 'wages': {'hourly_rate': '50', 'weekly_hours': 40}}\n"
     ]
    }
   ],
   "source": [
    "# Print just the first result from the query\n",
    "filter = {'wages.weekly_hours': 40}\n",
    "results = mechanics.find(filter)\n",
    "\n",
    "pprint(results[0])"
   ]
  },
  {
   "cell_type": "code",
   "execution_count": 33,
   "id": "267acb65",
   "metadata": {},
   "outputs": [
    {
     "data": {
      "text/plain": [
       "<pymongo.results.UpdateResult at 0x2ba9980ab00>"
      ]
     },
     "execution_count": 33,
     "metadata": {},
     "output_type": "execute_result"
    }
   ],
   "source": [
    "# Change the data type from String to Double for wages.hourly_rate\n",
    "mechanics.update_many({}, [{'$set': {'wages.hourly_rate': {'$toDouble': '$wages.hourly_rate'}}}])"
   ]
  },
  {
   "cell_type": "code",
   "execution_count": 36,
   "id": "90598772",
   "metadata": {},
   "outputs": [
    {
     "name": "stdout",
     "output_type": "stream",
     "text": [
      "{'_id': ObjectId('64be6655dd2644be1dd55d4f'), 'mechanic_name': 'Ai Tanaka', 'wages': {'hourly_rate': 50.0, 'weekly_hours': 40}, 'contact': {'phone': '555-876-8755', 'email': 'tanakaa@autosaurus.com'}, 'hours': {'Tuesday': '8am-4pm', 'Wednesday': '11am-7pm', 'Thursday': '10am-6pm', 'Friday': '8am-4pm', 'Saturday': '8am-4pm'}, 'car_specialties': ['Ferrari', 'Porsche', 'Lexus', 'Nissan', 'Saab', 'Jeep', 'Isuzu', 'Fillmore', 'Citroën']}\n",
      "{'_id': ObjectId('64be6655dd2644be1dd55d50'), 'mechanic_name': 'Quenti Yupanqui', 'wages': {'hourly_rate': 46.75, 'weekly_hours': 40}, 'contact': {'phone': '555-876-8759', 'email': 'yupanquiq@autosaurus.com'}, 'hours': {'Monday': '8am-4pm', 'Tuesday': '11am-7pm', 'Wednesday': '10am-6pm', 'Thursday': '8am-4pm', 'Friday': '8am-4pm'}, 'car_specialties': ['Ram', 'Bentley', 'Land Rover', 'Lamborghini', 'Acura', 'Suzuki', 'Alfa Romeo', 'Scion']}\n",
      "{'_id': ObjectId('64be6655dd2644be1dd55d51'), 'mechanic_name': 'Spanner McGee', 'wages': {'hourly_rate': 40.0, 'weekly_hours': 40}, 'contact': {'phone': '555-876-8754', 'email': 'spanner@autosaurus.com'}, 'hours': {'Monday': '8am-4pm', 'Tuesday': '11am-7pm', 'Wednesday': '10am-6pm', 'Thursday': '8am-4pm', 'Sunday': '8am-4pm'}, 'car_specialties': ['Ford', 'Volkswagen', 'Chrysler', 'Hyundai', 'Shelby', 'GMC', 'Mercedes-Benz', 'Saturn', 'Chevrolet']}\n",
      "{'_id': ObjectId('64be6655dd2644be1dd55d52'), 'mechanic_name': 'Dacey Cocom', 'wages': {'hourly_rate': 48.1, 'weekly_hours': 40}, 'contact': {'phone': '555-876-8758', 'email': 'cocomd@autosaurus.com'}, 'hours': {'Wednesday': '8am-4pm', 'Thursday': '11am-7pm', 'Friday': '10am-6pm', 'Saturday': '11am-7pm', 'Sunday': '11am-7pm'}, 'car_specialties': ['Jaguar', 'Hummer', 'Mitsubishi', 'Geo', 'Holden', 'Rolls-Royce', 'Mercury', 'Subaru', 'Maybach']}\n",
      "{'_id': ObjectId('64be6655dd2644be1dd55d53'), 'mechanic_name': 'Taiwo Sani', 'wages': {'hourly_rate': 42.0, 'weekly_hours': 40}, 'contact': {'phone': '555-876-8760', 'email': 'sanit@autosaurus.com'}, 'hours': {'Tuesday': '9am-5pm', 'Wednesday': '9am-5pm', 'Thursday': '8am-4pm', 'Friday': '9am-5pm', 'Saturday': '11am-7pm'}, 'car_specialties': ['Merkur', 'Infiniti', 'Rambler', 'Aptera', 'Maserati', 'Oldsmobile', 'Morgan', 'Spyker', 'Smart']}\n",
      "{'_id': ObjectId('64be6655dd2644be1dd55d54'), 'mechanic_name': 'Gwan Jun-ho', 'wages': {'hourly_rate': 40.0, 'weekly_hours': 40}, 'contact': {'phone': '555-876-8757', 'email': 'gwanj@autosaurus.com'}, 'hours': {'Monday': '8am-4pm', 'Tuesday': '11am-7pm', 'Wednesday': '10am-6pm', 'Thursday': '8am-4pm', 'Friday': '8am-4pm'}, 'car_specialties': ['Volvo', 'Buick', 'Honda', 'Lotus', 'Lincoln', 'Plymouth', 'Aston Martin', 'Kia']}\n",
      "{'_id': ObjectId('64be6655dd2644be1dd55d55'), 'mechanic_name': 'Parvati Khatri', 'wages': {'hourly_rate': 43.5, 'weekly_hours': 40}, 'contact': {'phone': '555-876-8756', 'email': 'khatrip@autosaurus.com'}, 'hours': {'Monday': '11am-7pm', 'Tuesday': '10am-6pm', 'Friday': '10am-6pm', 'Saturday': '8am-4pm', 'Sunday': '8am-4pm'}, 'car_specialties': ['Cadillac', 'BMW', 'Mazda', 'MINI', 'Audi', 'Eagle', 'Dodge', 'Toyota', 'Pontiac']}\n"
     ]
    }
   ],
   "source": [
    "# verify hourly_rate is set to double\n",
    "for doc in mechanics.find():\n",
    "    print(doc)"
   ]
  },
  {
   "cell_type": "code",
   "execution_count": 38,
   "id": "0585f652",
   "metadata": {},
   "outputs": [
    {
     "name": "stdout",
     "output_type": "stream",
     "text": [
      "{'_id': ObjectId('64be6655dd2644be1dd55d4f'), 'mechanic_name': 'Ai Tanaka', 'wages': {'hourly_rate': 50.0, 'weekly_hours': 40}, 'contact': {'phone': '555-876-8755', 'email': 'tanakaa@autosaurus.com'}, 'hours': {'Tuesday': '8am-4pm', 'Wednesday': '11am-7pm', 'Thursday': '10am-6pm', 'Friday': '8am-4pm', 'Saturday': '8am-4pm'}, 'car_specialties': ['Ferrari', 'Porsche', 'Lexus', 'Nissan', 'Saab', 'Jeep', 'Isuzu', 'Fillmore', 'Citroën']}\n",
      "{'_id': ObjectId('64be6655dd2644be1dd55d50'), 'mechanic_name': 'Quenti Yupanqui', 'wages': {'hourly_rate': 46.75, 'weekly_hours': 40}, 'contact': {'phone': '555-876-8759', 'email': 'yupanquiq@autosaurus.com'}, 'hours': {'Monday': '8am-4pm', 'Tuesday': '11am-7pm', 'Wednesday': '10am-6pm', 'Thursday': '8am-4pm', 'Friday': '8am-4pm'}, 'car_specialties': ['Ram', 'Bentley', 'Land Rover', 'Lamborghini', 'Acura', 'Suzuki', 'Alfa Romeo', 'Scion']}\n",
      "{'_id': ObjectId('64be6655dd2644be1dd55d51'), 'mechanic_name': 'Spanner McGee', 'wages': {'hourly_rate': 40.0, 'weekly_hours': 40}, 'contact': {'phone': '555-876-8754', 'email': 'spanner@autosaurus.com'}, 'hours': {'Monday': '8am-4pm', 'Tuesday': '11am-7pm', 'Wednesday': '10am-6pm', 'Thursday': '8am-4pm', 'Sunday': '8am-4pm'}, 'car_specialties': ['Ford', 'Volkswagen', 'Chrysler', 'Hyundai', 'Shelby', 'GMC', 'Mercedes-Benz', 'Saturn', 'Chevrolet']}\n",
      "{'_id': ObjectId('64be6655dd2644be1dd55d52'), 'mechanic_name': 'Dacey Cocom', 'wages': {'hourly_rate': 48.1, 'weekly_hours': 40}, 'contact': {'phone': '555-876-8758', 'email': 'cocomd@autosaurus.com'}, 'hours': {'Wednesday': '8am-4pm', 'Thursday': '11am-7pm', 'Friday': '10am-6pm', 'Saturday': '11am-7pm', 'Sunday': '11am-7pm'}, 'car_specialties': ['Jaguar', 'Hummer', 'Mitsubishi', 'Geo', 'Holden', 'Rolls-Royce', 'Mercury', 'Subaru', 'Maybach']}\n",
      "{'_id': ObjectId('64be6655dd2644be1dd55d53'), 'mechanic_name': 'Taiwo Sani', 'wages': {'hourly_rate': 42.0, 'weekly_hours': 40}, 'contact': {'phone': '555-876-8760', 'email': 'sanit@autosaurus.com'}, 'hours': {'Tuesday': '9am-5pm', 'Wednesday': '9am-5pm', 'Thursday': '8am-4pm', 'Friday': '9am-5pm', 'Saturday': '11am-7pm'}, 'car_specialties': ['Merkur', 'Infiniti', 'Rambler', 'Aptera', 'Maserati', 'Oldsmobile', 'Morgan', 'Spyker', 'Smart']}\n",
      "{'_id': ObjectId('64be6655dd2644be1dd55d54'), 'mechanic_name': 'Gwan Jun-ho', 'wages': {'hourly_rate': 40.0, 'weekly_hours': 40}, 'contact': {'phone': '555-876-8757', 'email': 'gwanj@autosaurus.com'}, 'hours': {'Monday': '8am-4pm', 'Tuesday': '11am-7pm', 'Wednesday': '10am-6pm', 'Thursday': '8am-4pm', 'Friday': '8am-4pm'}, 'car_specialties': ['Volvo', 'Buick', 'Honda', 'Lotus', 'Lincoln', 'Plymouth', 'Aston Martin', 'Kia']}\n",
      "{'_id': ObjectId('64be6655dd2644be1dd55d55'), 'mechanic_name': 'Parvati Khatri', 'wages': {'hourly_rate': 43.5, 'weekly_hours': 40}, 'contact': {'phone': '555-876-8756', 'email': 'khatrip@autosaurus.com'}, 'hours': {'Monday': '11am-7pm', 'Tuesday': '10am-6pm', 'Friday': '10am-6pm', 'Saturday': '8am-4pm', 'Sunday': '8am-4pm'}, 'car_specialties': ['Cadillac', 'BMW', 'Mazda', 'MINI', 'Audi', 'Eagle', 'Dodge', 'Toyota', 'Pontiac']}\n"
     ]
    }
   ],
   "source": [
    "# Select only the mechanic_name and wages.hourly_rate fields from the mechanics collection\n",
    "query = {}\n",
    "\n",
    "# Capture the results to a variable\n",
    "results = mechanics.find(query)\n",
    "\n",
    "# Pretty print the results\n",
    "for doc in results:\n",
    "    print(doc)"
   ]
  },
  {
   "cell_type": "code",
   "execution_count": 40,
   "id": "7cbd9692",
   "metadata": {},
   "outputs": [
    {
     "name": "stdout",
     "output_type": "stream",
     "text": [
      "{'_id': ObjectId('64be6655dd2644be1dd55d4f'), 'mechanic_name': 'Ai Tanaka', 'wages': {'hourly_rate': 50.0}}\n",
      "{'_id': ObjectId('64be6655dd2644be1dd55d50'), 'mechanic_name': 'Quenti Yupanqui', 'wages': {'hourly_rate': 46.75}}\n",
      "{'_id': ObjectId('64be6655dd2644be1dd55d51'), 'mechanic_name': 'Spanner McGee', 'wages': {'hourly_rate': 40.0}}\n",
      "{'_id': ObjectId('64be6655dd2644be1dd55d52'), 'mechanic_name': 'Dacey Cocom', 'wages': {'hourly_rate': 48.1}}\n",
      "{'_id': ObjectId('64be6655dd2644be1dd55d53'), 'mechanic_name': 'Taiwo Sani', 'wages': {'hourly_rate': 42.0}}\n",
      "{'_id': ObjectId('64be6655dd2644be1dd55d54'), 'mechanic_name': 'Gwan Jun-ho', 'wages': {'hourly_rate': 40.0}}\n",
      "{'_id': ObjectId('64be6655dd2644be1dd55d55'), 'mechanic_name': 'Parvati Khatri', 'wages': {'hourly_rate': 43.5}}\n"
     ]
    }
   ],
   "source": [
    "# Select every field from the mechanics collection except the car_specialties field\n",
    "query = {}\n",
    "fields = {'mechanic_name':1, 'wages.hourly_rate':1}\n",
    "\n",
    "# Capture the results to a variable\n",
    "results = mechanics.find(query,fields)\n",
    "\n",
    "# Pretty print the first two results\n",
    "for doc in results:\n",
    "    print(doc)"
   ]
  },
  {
   "cell_type": "code",
   "execution_count": 41,
   "id": "980357b1",
   "metadata": {},
   "outputs": [
    {
     "name": "stdout",
     "output_type": "stream",
     "text": [
      "{'_id': ObjectId('64be6655dd2644be1dd55d4f'), 'mechanic_name': 'Ai Tanaka', 'wages': {'hourly_rate': 50.0, 'weekly_hours': 40}, 'contact': {'phone': '555-876-8755', 'email': 'tanakaa@autosaurus.com'}, 'hours': {'Tuesday': '8am-4pm', 'Wednesday': '11am-7pm', 'Thursday': '10am-6pm', 'Friday': '8am-4pm', 'Saturday': '8am-4pm'}}\n",
      "{'_id': ObjectId('64be6655dd2644be1dd55d50'), 'mechanic_name': 'Quenti Yupanqui', 'wages': {'hourly_rate': 46.75, 'weekly_hours': 40}, 'contact': {'phone': '555-876-8759', 'email': 'yupanquiq@autosaurus.com'}, 'hours': {'Monday': '8am-4pm', 'Tuesday': '11am-7pm', 'Wednesday': '10am-6pm', 'Thursday': '8am-4pm', 'Friday': '8am-4pm'}}\n",
      "{'_id': ObjectId('64be6655dd2644be1dd55d51'), 'mechanic_name': 'Spanner McGee', 'wages': {'hourly_rate': 40.0, 'weekly_hours': 40}, 'contact': {'phone': '555-876-8754', 'email': 'spanner@autosaurus.com'}, 'hours': {'Monday': '8am-4pm', 'Tuesday': '11am-7pm', 'Wednesday': '10am-6pm', 'Thursday': '8am-4pm', 'Sunday': '8am-4pm'}}\n",
      "{'_id': ObjectId('64be6655dd2644be1dd55d52'), 'mechanic_name': 'Dacey Cocom', 'wages': {'hourly_rate': 48.1, 'weekly_hours': 40}, 'contact': {'phone': '555-876-8758', 'email': 'cocomd@autosaurus.com'}, 'hours': {'Wednesday': '8am-4pm', 'Thursday': '11am-7pm', 'Friday': '10am-6pm', 'Saturday': '11am-7pm', 'Sunday': '11am-7pm'}}\n",
      "{'_id': ObjectId('64be6655dd2644be1dd55d53'), 'mechanic_name': 'Taiwo Sani', 'wages': {'hourly_rate': 42.0, 'weekly_hours': 40}, 'contact': {'phone': '555-876-8760', 'email': 'sanit@autosaurus.com'}, 'hours': {'Tuesday': '9am-5pm', 'Wednesday': '9am-5pm', 'Thursday': '8am-4pm', 'Friday': '9am-5pm', 'Saturday': '11am-7pm'}}\n",
      "{'_id': ObjectId('64be6655dd2644be1dd55d54'), 'mechanic_name': 'Gwan Jun-ho', 'wages': {'hourly_rate': 40.0, 'weekly_hours': 40}, 'contact': {'phone': '555-876-8757', 'email': 'gwanj@autosaurus.com'}, 'hours': {'Monday': '8am-4pm', 'Tuesday': '11am-7pm', 'Wednesday': '10am-6pm', 'Thursday': '8am-4pm', 'Friday': '8am-4pm'}}\n",
      "{'_id': ObjectId('64be6655dd2644be1dd55d55'), 'mechanic_name': 'Parvati Khatri', 'wages': {'hourly_rate': 43.5, 'weekly_hours': 40}, 'contact': {'phone': '555-876-8756', 'email': 'khatrip@autosaurus.com'}, 'hours': {'Monday': '11am-7pm', 'Tuesday': '10am-6pm', 'Friday': '10am-6pm', 'Saturday': '8am-4pm', 'Sunday': '8am-4pm'}}\n"
     ]
    }
   ],
   "source": [
    "# query all columns except car_specialties\n",
    "query = {}\n",
    "fields = {'car_specialties':0}\n",
    "results = mechanics.find(query,fields)\n",
    "for doc in results:\n",
    "    print(doc)"
   ]
  }
 ],
 "metadata": {
  "kernelspec": {
   "display_name": "Python 3 (ipykernel)",
   "language": "python",
   "name": "python3"
  },
  "language_info": {
   "codemirror_mode": {
    "name": "ipython",
    "version": 3
   },
   "file_extension": ".py",
   "mimetype": "text/x-python",
   "name": "python",
   "nbconvert_exporter": "python",
   "pygments_lexer": "ipython3",
   "version": "3.10.12"
  }
 },
 "nbformat": 4,
 "nbformat_minor": 5
}
