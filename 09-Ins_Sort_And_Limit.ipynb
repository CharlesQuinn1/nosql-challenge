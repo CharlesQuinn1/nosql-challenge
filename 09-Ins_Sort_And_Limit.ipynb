{
 "cells": [
  {
   "cell_type": "code",
   "execution_count": 1,
   "id": "be574090",
   "metadata": {},
   "outputs": [],
   "source": [
    "# Import dependencies\n",
    "from pymongo import MongoClient\n",
    "from pprint import pprint"
   ]
  },
  {
   "cell_type": "code",
   "execution_count": 2,
   "id": "dc45fb9a",
   "metadata": {},
   "outputs": [],
   "source": [
    "# Create an instance of MongoClient\n",
    "mongo = MongoClient(port=27017)"
   ]
  },
  {
   "cell_type": "code",
   "execution_count": 3,
   "id": "b69daf6f",
   "metadata": {},
   "outputs": [
    {
     "name": "stdout",
     "output_type": "stream",
     "text": [
      "['admin', 'autosaurus', 'classDB', 'config', 'fruits_db', 'local', 'petsitly_marketing', 'test', 'testdb', 'travel_db', 'uk_food']\n"
     ]
    }
   ],
   "source": [
    "# confirm that the \"autosaurus\" database is in MongoDB\n",
    "print(mongo.list_database_names())"
   ]
  },
  {
   "cell_type": "code",
   "execution_count": 4,
   "id": "e7695dd3",
   "metadata": {},
   "outputs": [],
   "source": [
    "# assign the database to a variable name\n",
    "db = mongo['autosaurus']"
   ]
  },
  {
   "cell_type": "code",
   "execution_count": 5,
   "id": "3cad655c",
   "metadata": {},
   "outputs": [
    {
     "name": "stdout",
     "output_type": "stream",
     "text": [
      "['mechanics', 'customers']\n"
     ]
    }
   ],
   "source": [
    "# review the collections in our new database\n",
    "print(db.list_collection_names())"
   ]
  },
  {
   "cell_type": "code",
   "execution_count": 6,
   "id": "3053092f",
   "metadata": {},
   "outputs": [],
   "source": [
    "# assign each collection to a variable\n",
    "customers = db['customers']\n",
    "mechanics = db['mechanics']"
   ]
  },
  {
   "cell_type": "code",
   "execution_count": 8,
   "id": "6d518685",
   "metadata": {},
   "outputs": [
    {
     "name": "stdout",
     "output_type": "stream",
     "text": [
      "{'_id': 593, 'full_name': 'Luci Beddie', 'car_make': 'Porsche', 'car_model': 911, 'car_year': 2009, 'car_vin': 'WAUAH94F66N996350', 'last_service': '1/1/22'}\n",
      "{'_id': 593, 'full_name': 'Luci Beddie', 'car_make': 'Porsche', 'car_model': 911, 'car_year': 2009, 'car_vin': 'WAUAH94F66N996350', 'last_service': '1/1/22'}\n",
      "{'_id': 304, 'full_name': 'Madlen Dackombe', 'car_make': 'Maserati', 'car_model': 'Quattroporte', 'car_year': 2011, 'car_vin': '2C4RDGEG7DR461833', 'last_service': '1/10/22'}\n",
      "{'_id': 590, 'full_name': 'Roxane Couch', 'car_make': 'Pontiac', 'car_model': 'Grand Am', 'car_year': 1985, 'car_vin': '5XYKT3A16CG022995', 'last_service': '1/10/22'}\n",
      "{'_id': 590, 'full_name': 'Roxane Couch', 'car_make': 'Pontiac', 'car_model': 'Grand Am', 'car_year': 1985, 'car_vin': '5XYKT3A16CG022995', 'last_service': '1/10/22'}\n"
     ]
    }
   ],
   "source": [
    "# Create a query that sorts in ascending order by last_service\n",
    "query = {}\n",
    "sort = [{'last_service',1}]\n",
    "\n",
    "# Capture the results to a variable\n",
    "results = customers.find(query).sort(sort)\n",
    "\n",
    "# Pretty print the first five results\n",
    "for doc in range(5):\n",
    "    print(results[doc])"
   ]
  },
  {
   "cell_type": "code",
   "execution_count": 11,
   "id": "602b8de0",
   "metadata": {},
   "outputs": [
    {
     "name": "stdout",
     "output_type": "stream",
     "text": [
      "[{'_id': 875,\n",
      "  'car_make': 'Mazda',\n",
      "  'car_model': 'Mazda6',\n",
      "  'car_vin': '3GYEK63N43G743393',\n",
      "  'car_year': 2003,\n",
      "  'full_name': 'Winthrop Retchford',\n",
      "  'last_service': '1/1/22'},\n",
      " {'_id': 593,\n",
      "  'car_make': 'Porsche',\n",
      "  'car_model': 911,\n",
      "  'car_vin': 'WAUAH94F66N996350',\n",
      "  'car_year': 2009,\n",
      "  'full_name': 'Luci Beddie',\n",
      "  'last_service': '1/1/22'},\n",
      " {'_id': 304,\n",
      "  'car_make': 'Maserati',\n",
      "  'car_model': 'Quattroporte',\n",
      "  'car_vin': '2C4RDGEG7DR461833',\n",
      "  'car_year': 2011,\n",
      "  'full_name': 'Madlen Dackombe',\n",
      "  'last_service': '1/10/22'}]\n"
     ]
    }
   ],
   "source": [
    "# Create a query that sorts in ascending order by last_service and limits the results to the first 5\n",
    "query = {}\n",
    "sort = [{'last_service',1}]\n",
    "limit = 3\n",
    "results = customers.find(query).sort(sort).limit(limit)\n",
    "\n",
    "# Pretty print the results\n",
    "pprint(list(results))"
   ]
  },
  {
   "cell_type": "code",
   "execution_count": 16,
   "id": "ab084c12",
   "metadata": {},
   "outputs": [
    {
     "name": "stdout",
     "output_type": "stream",
     "text": [
      "[{'_id': 966,\n",
      "  'car_make': 'Hyundai',\n",
      "  'car_model': 'Tucson',\n",
      "  'car_vin': 'WBAFV3C52ED597363',\n",
      "  'car_year': 2012,\n",
      "  'full_name': 'Corny Marryatt',\n",
      "  'last_service': '8/10/22'},\n",
      " {'_id': 488,\n",
      "  'car_make': 'Nissan',\n",
      "  'car_model': 'Sentra',\n",
      "  'car_vin': '3D7LP2ET6BG853076',\n",
      "  'car_year': 2012,\n",
      "  'full_name': 'Katerine Giffin',\n",
      "  'last_service': '9/22/22'},\n",
      " {'_id': 416,\n",
      "  'car_make': 'Nissan',\n",
      "  'car_model': 'Versa',\n",
      "  'car_vin': '5GADV23L25D047844',\n",
      "  'car_year': 2012,\n",
      "  'full_name': 'Trina Pride',\n",
      "  'last_service': '2/27/22'}]\n"
     ]
    }
   ],
   "source": [
    "# Create a query that:\n",
    "# finds customers with a \"Nissan\" or \"Hyundai\"\n",
    "# sorts in descending order by car_year\n",
    "# limits the results to the first 5\n",
    "query = {'car_make': {'$in': ['Nissan', 'Hyundai']}}\n",
    "sort = [('car_year',-1)]\n",
    "limit = 3\n",
    "results = customers.find(query).sort(sort).limit(limit)\n",
    "\n",
    "# Pretty print the results\n",
    "pprint(list(results))"
   ]
  },
  {
   "cell_type": "code",
   "execution_count": 17,
   "id": "f954405a",
   "metadata": {},
   "outputs": [
    {
     "name": "stdout",
     "output_type": "stream",
     "text": [
      "[{'_id': 416,\n",
      "  'car_make': 'Nissan',\n",
      "  'car_model': 'Versa',\n",
      "  'car_vin': '5GADV23L25D047844',\n",
      "  'car_year': 2012,\n",
      "  'full_name': 'Trina Pride',\n",
      "  'last_service': '2/27/22'},\n",
      " {'_id': 966,\n",
      "  'car_make': 'Hyundai',\n",
      "  'car_model': 'Tucson',\n",
      "  'car_vin': 'WBAFV3C52ED597363',\n",
      "  'car_year': 2012,\n",
      "  'full_name': 'Corny Marryatt',\n",
      "  'last_service': '8/10/22'},\n",
      " {'_id': 488,\n",
      "  'car_make': 'Nissan',\n",
      "  'car_model': 'Sentra',\n",
      "  'car_vin': '3D7LP2ET6BG853076',\n",
      "  'car_year': 2012,\n",
      "  'full_name': 'Katerine Giffin',\n",
      "  'last_service': '9/22/22'}]\n"
     ]
    }
   ],
   "source": [
    "# Create a query that:\n",
    "# finds customers with a \"Nissan\" or \"Hyundai\"\n",
    "# sorts in descending order by car_year, then ascending order by last_service\n",
    "# limits the results to the first 5\n",
    "query = {'car_make': {'$in': ['Nissan', 'Hyundai']}}\n",
    "sort = [('car_year',-1), ('last_service',1)]\n",
    "limit = 3\n",
    "results = customers.find(query).sort(sort).limit(limit)\n",
    "\n",
    "# Pretty print the results\n",
    "pprint(list(results))"
   ]
  },
  {
   "cell_type": "code",
   "execution_count": null,
   "id": "9b0d18e1",
   "metadata": {},
   "outputs": [],
   "source": []
  }
 ],
 "metadata": {
  "kernelspec": {
   "display_name": "Python 3 (ipykernel)",
   "language": "python",
   "name": "python3"
  },
  "language_info": {
   "codemirror_mode": {
    "name": "ipython",
    "version": 3
   },
   "file_extension": ".py",
   "mimetype": "text/x-python",
   "name": "python",
   "nbconvert_exporter": "python",
   "pygments_lexer": "ipython3",
   "version": "3.10.12"
  }
 },
 "nbformat": 4,
 "nbformat_minor": 5
}
